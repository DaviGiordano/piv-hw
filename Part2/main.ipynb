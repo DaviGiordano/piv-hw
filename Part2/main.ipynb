{
 "cells": [
  {
   "cell_type": "code",
   "execution_count": 1,
   "metadata": {},
   "outputs": [],
   "source": [
    "import matplotlib.pyplot as plt\n",
    "from pathlib import Path\n",
    "import scipy.io as spio\n",
    "from tqdm import tqdm\n",
    "from PIL import Image\n",
    "import numpy as np\n",
    "import cv2\n",
    "import os\n",
    "\n",
    "%load_ext autoreload\n",
    "%autoreload 2"
   ]
  },
  {
   "cell_type": "code",
   "execution_count": 2,
   "metadata": {},
   "outputs": [],
   "source": [
    "MIN_CONF = 0.7"
   ]
  },
  {
   "cell_type": "markdown",
   "metadata": {},
   "source": [
    "# 1. Pre-process data"
   ]
  },
  {
   "cell_type": "code",
   "execution_count": 3,
   "metadata": {},
   "outputs": [],
   "source": [
    "data_path = Path(os.getcwd()) / 'office'\n",
    "\n",
    "output_path = data_path / 'output'\n",
    "output_path.mkdir(parents=True, exist_ok=True)\n",
    "\n",
    "imgs_fpaths = sorted((data_path / 'rgb').glob('*.png'))\n",
    "\n",
    "cams_info_fpath = data_path / 'cams_info_no_extr.mat'\n",
    "kp_fpath = data_path / 'kp.mat'\n",
    "world_info_fpath = data_path / 'wrld_info.mat'"
   ]
  },
  {
   "cell_type": "code",
   "execution_count": 4,
   "metadata": {},
   "outputs": [],
   "source": [
    "# Loading cams info\n",
    "\n",
    "cams_info_raw = spio.loadmat(cams_info_fpath)['cams_info']\n",
    "cams_info = []\n",
    "for datapoint in cams_info_raw:\n",
    "    img = datapoint[0][0][0][0]\n",
    "    depth_map = datapoint[0][0][0][1]\n",
    "    conf_map = datapoint[0][0][0][2]\n",
    "    focal_length = datapoint[0][0][0][3][0][0]\n",
    "    cams_info.append({'focal_length':focal_length, 'rgb':img, 'depth':depth_map, 'conf': conf_map})"
   ]
  },
  {
   "cell_type": "code",
   "execution_count": 5,
   "metadata": {},
   "outputs": [],
   "source": [
    "# Loading sift keypoints and descriptions\n",
    "\n",
    "kp= spio.loadmat(kp_fpath)\n",
    "keys = list(set(kp.keys()) - {'__header__', '__version__', '__globals__'})\n",
    "keys = sorted(keys, key=lambda x: int(x.split('_')[1][3:]))\n",
    "\n",
    "sift = []\n",
    "for key in keys:\n",
    "    sift.append({'kp': kp[key][0][0][0], 'desc': kp[key][0][0][1]})"
   ]
  },
  {
   "cell_type": "code",
   "execution_count": 6,
   "metadata": {},
   "outputs": [],
   "source": [
    "from utils.ImageNode import ImageNode\n",
    "image_nodes:ImageNode = []\n",
    "\n",
    "for i in range(len(cams_info)):\n",
    "    image_nodes.append(ImageNode(\n",
    "        idx=i,\n",
    "        rgb=cams_info[i]['rgb'],\n",
    "        keypoints=sift[i]['kp'],\n",
    "        descriptors=sift[i]['desc'],\n",
    "        depth_map=cams_info[i]['depth'],\n",
    "        conf_map=cams_info[i]['conf'],\n",
    "        focal_length=cams_info[i]['focal_length']\n",
    "    ))"
   ]
  },
  {
   "cell_type": "code",
   "execution_count": null,
   "metadata": {},
   "outputs": [],
   "source": [
    "from utils.plot import draw_image_keypoints, draw_matches_points, plot_point_cloud_with_keypoints\n",
    "\n",
    "node = image_nodes[2]\n",
    "plt.imshow(draw_image_keypoints(node.rgb, node.keypoints))"
   ]
  },
  {
   "cell_type": "code",
   "execution_count": 8,
   "metadata": {},
   "outputs": [],
   "source": [
    "# node1 = image_nodes[1]\n",
    "# node2 = image_nodes[2]\n",
    "\n",
    "# canvas = draw_matches_points(img1=node1.rgb, img2=node2.rgb, src_points=node1.keypoints, dst_points=node2.keypoints, max_points=50)\n",
    "# plt.imshow(canvas)"
   ]
  },
  {
   "cell_type": "markdown",
   "metadata": {},
   "source": [
    "# 2. Visualize point cloud"
   ]
  },
  {
   "cell_type": "code",
   "execution_count": 9,
   "metadata": {},
   "outputs": [],
   "source": [
    "# from utils.plot import plot_point_cloud_with_keypoints\n",
    "\n",
    "# plot_point_cloud_with_keypoints(node1.point_cloud, node1.keypoints_3d)"
   ]
  },
  {
   "cell_type": "markdown",
   "metadata": {},
   "source": [
    "# 3. Compute 2d and 3d match between images"
   ]
  },
  {
   "cell_type": "code",
   "execution_count": 10,
   "metadata": {},
   "outputs": [],
   "source": [
    "from utils.ImageNodeMatch import ImageNodesMatch\n",
    "\n",
    "\n",
    "nodes_match = {}\n",
    "for node1 in image_nodes:\n",
    "    for node2 in image_nodes:\n",
    "        matching_nodes = ImageNodesMatch(node1, node2)\n",
    "        nodes_match.update({matching_nodes.pair_idx: matching_nodes})"
   ]
  },
  {
   "cell_type": "markdown",
   "metadata": {},
   "source": [
    "# 4. Visualize errors"
   ]
  },
  {
   "cell_type": "code",
   "execution_count": 11,
   "metadata": {},
   "outputs": [],
   "source": [
    "pairs = []\n",
    "errors = []\n",
    "for k,v in list(nodes_match.items()):\n",
    "    if k[0] != k[1]:\n",
    "        pairs.append(k)\n",
    "        errors.append(float(v.get_error(transform_type='icp').round(4)))"
   ]
  },
  {
   "cell_type": "code",
   "execution_count": null,
   "metadata": {},
   "outputs": [],
   "source": [
    "sorted_pairs_errors = sorted(zip(errors, pairs))\n",
    "sorted_errors, sorted_pairs = zip(*sorted_pairs_errors)\n",
    "\n",
    "# Convert back to lists\n",
    "sorted_errors = list(sorted_errors)\n",
    "sorted_pairs = list(sorted_pairs)\n",
    "\n",
    "print(sorted_errors)\n",
    "print(sorted_pairs)"
   ]
  },
  {
   "cell_type": "code",
   "execution_count": 13,
   "metadata": {},
   "outputs": [],
   "source": [
    "from utils.plot import register_point_cloud, write_point_cloud\n",
    "# Registering point clouds based on error\n",
    "\n",
    "for pair in sorted_pairs[:10]:\n",
    "    m = nodes_match[pair]\n",
    "    output_dir = output_path / f'{pair[0]}_{pair[1]}'\n",
    "    output_dir.mkdir(parents=True, exist_ok=True)\n",
    "\n",
    "    src_node_pcloud_t = m.apply_transform(m.src_node.point_cloud, m.transform_icp)\n",
    "\n",
    "    pcd = register_point_cloud(m.dst_node.point_cloud, m.dst_node.cloud_colors)\n",
    "    write_point_cloud(pcd, str(output_dir / 'dst.ply'))\n",
    "    \n",
    "    pcd = register_point_cloud(src_node_pcloud_t, m.src_node.cloud_colors)\n",
    "    write_point_cloud(pcd, str(output_dir / 'src_t.ply'))"
   ]
  },
  {
   "cell_type": "code",
   "execution_count": 14,
   "metadata": {},
   "outputs": [],
   "source": [
    "from utils.plot import register_point_cloud, write_point_cloud\n",
    "\n",
    "m = nodes_match[(0,3)]\n",
    "src_transformed = m.apply_transform(m.src_node.point_cloud, m.transform_procrustes)\n",
    "pcd = register_point_cloud(src_transformed, m.src_node.cloud_colors)\n",
    "write_point_cloud(pcd, 'src_procrustes.ply')\n"
   ]
  },
  {
   "cell_type": "markdown",
   "metadata": {},
   "source": [
    "# 4. Manually transforming office dataset"
   ]
  },
  {
   "cell_type": "code",
   "execution_count": 15,
   "metadata": {},
   "outputs": [],
   "source": [
    "from utils.plot import register_point_cloud, write_point_cloud\n",
    "\n",
    "# Some direct transforms\n",
    "direct_matches = [(3,0), (4,0), (7,0)]\n",
    "for match_id in direct_matches:\n",
    "    m = nodes_match[match_id]\n",
    "    src_transformed = m.apply_transform(m.src_node.point_cloud, m.transform_icp)\n",
    "    pcd = register_point_cloud(src_transformed, m.src_node.cloud_colors)\n",
    "    write_point_cloud(pcd, f'src_icp_{match_id}.ply')"
   ]
  },
  {
   "cell_type": "code",
   "execution_count": null,
   "metadata": {},
   "outputs": [],
   "source": [
    "from utils.PoseGraph import PoseGraph\n",
    "\n",
    "# 1) Build the pose graph with your existing objects\n",
    "optimizer = PoseGraph([image_nodes[i] for i in [0, 3, 4, 7]], nodes_match)\n",
    "\n",
    "# 2) Incrementally register everyone, picking node 0 as the base\n",
    "optimizer.incremental_registration(base_node_idx=3)\n",
    "\n",
    "# At this point, 'optimizer.global_poses[node_idx]' should have a\n",
    "# (refined) transform for each ImageNode in the global coordinate frame.\n"
   ]
  },
  {
   "cell_type": "code",
   "execution_count": 17,
   "metadata": {},
   "outputs": [],
   "source": [
    "for idx, transform in optimizer.global_poses.items():\n",
    "    pcloud_transf = m.apply_transform(image_nodes[idx].point_cloud, transform)\n",
    "    pcd = register_point_cloud(pcloud_transf, image_nodes[idx].cloud_colors)\n",
    "    write_point_cloud(pcd, f'{idx}_transformed.ply')"
   ]
  }
 ],
 "metadata": {
  "kernelspec": {
   "display_name": "sandbox",
   "language": "python",
   "name": "python3"
  },
  "language_info": {
   "codemirror_mode": {
    "name": "ipython",
    "version": 3
   },
   "file_extension": ".py",
   "mimetype": "text/x-python",
   "name": "python",
   "nbconvert_exporter": "python",
   "pygments_lexer": "ipython3",
   "version": "3.10.13"
  }
 },
 "nbformat": 4,
 "nbformat_minor": 2
}
