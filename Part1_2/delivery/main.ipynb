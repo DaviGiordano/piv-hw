{
 "cells": [
  {
   "cell_type": "code",
   "execution_count": 1,
   "metadata": {},
   "outputs": [],
   "source": [
    "from ImageNode import ImageNode\n",
    "import argparse\n",
    "import logging\n",
    "import os\n",
    "from pathlib import Path\n",
    "from scipy.io import loadmat\n",
    "from PIL import Image\n",
    "import numpy as np\n",
    "from tqdm import tqdm\n",
    "from itertools import chain\n",
    "\n",
    "%load_ext autoreload\n",
    "%autoreload 2"
   ]
  },
  {
   "cell_type": "code",
   "execution_count": 2,
   "metadata": {},
   "outputs": [],
   "source": [
    "DISTANCE_THRESHOLD_PERCENTILE = 90\n",
    "RANSAC_THRESHOLD = 5\n",
    "SCALE_FACTOR = 0.5"
   ]
  },
  {
   "cell_type": "code",
   "execution_count": 3,
   "metadata": {},
   "outputs": [],
   "source": [
    "ref_dir = Path(\"/home/davigv/ist/piv/piv-hw/Part1_2/delivery/Pplant/ref_dir\")\n",
    "input_output_pairs = [\n",
    "    (Path(\"/home/davigv/ist/piv/piv-hw/Part1_2/delivery/Pplant/input1_dir\"),\n",
    "    Path(\"/home/davigv/ist/piv/piv-hw/Part1_2/delivery/Pplant/output1_dir\")),\n",
    "    (Path(\"/home/davigv/ist/piv/piv-hw/Part1_2/delivery/Pplant/input2_dir\"),\n",
    "    Path(\"/home/davigv/ist/piv/piv-hw/Part1_2/delivery/Pplant/output2_dir\"))\n",
    "]"
   ]
  },
  {
   "cell_type": "code",
   "execution_count": 4,
   "metadata": {},
   "outputs": [],
   "source": [
    "from load_data import load_reference_node\n",
    "\n",
    "\n",
    "ref_node = load_reference_node(Path(ref_dir))\n"
   ]
  },
  {
   "cell_type": "code",
   "execution_count": 5,
   "metadata": {},
   "outputs": [],
   "source": [
    "from load_data import process_dir_pairs\n",
    "\n",
    "\n",
    "image_nodes = process_dir_pairs(input_output_pairs)\n",
    "for i, node in enumerate(image_nodes):\n",
    "    node.image_num = i"
   ]
  },
  {
   "cell_type": "code",
   "execution_count": null,
   "metadata": {},
   "outputs": [],
   "source": [
    "from thresholds import max_descriptor_distance_threshold_numpy\n",
    "\n",
    "\n",
    "max_desc_dist = max_descriptor_distance_threshold_numpy(image_nodes, DISTANCE_THRESHOLD_PERCENTILE)\n",
    "print('The maximum descriptor distance is:', round(max_desc_dist, 4))"
   ]
  },
  {
   "cell_type": "code",
   "execution_count": null,
   "metadata": {},
   "outputs": [],
   "source": [
    "from thresholds import compute_min_inliers_threshold\n",
    "\n",
    "\n",
    "min_inliers_threshold = compute_min_inliers_threshold(image_nodes, max_desc_dist)\n",
    "print('The minimum number of inliers is:', min_inliers_threshold)"
   ]
  },
  {
   "cell_type": "code",
   "execution_count": null,
   "metadata": {},
   "outputs": [],
   "source": [
    "from homography import find_direct_homographies\n",
    "\n",
    "\n",
    "valid_homographies = find_direct_homographies(image_nodes, ref_node, min_inliers_threshold, max_desc_dist)\n",
    "if not valid_homographies[1]:\n",
    "    raise ValueError(\"No valid direct homographies found.\")"
   ]
  },
  {
   "cell_type": "code",
   "execution_count": null,
   "metadata": {},
   "outputs": [],
   "source": [
    "from homography import find_remaining_homographies\n",
    "\n",
    "\n",
    "find_remaining_homographies(image_nodes, valid_homographies, min_inliers_threshold, max_desc_dist)"
   ]
  },
  {
   "cell_type": "code",
   "execution_count": null,
   "metadata": {},
   "outputs": [],
   "source": [
    "print('Footprint of each node:')\n",
    "for node in image_nodes:\n",
    "    print(node.footprint)"
   ]
  },
  {
   "cell_type": "code",
   "execution_count": null,
   "metadata": {},
   "outputs": [],
   "source": [
    "print(\"Transforming YOLO\")\n",
    "for node in image_nodes:\n",
    "    node.transform_yolo_detections()"
   ]
  },
  {
   "cell_type": "code",
   "execution_count": null,
   "metadata": {},
   "outputs": [],
   "source": [
    "# from matplotlib import pyplot as plt\n",
    "# from plot import create_canvas_with_images\n",
    "\n",
    "# # Example usage:\n",
    "# final_canvas = create_canvas_with_images(ref_node.image, image_nodes)\n",
    "\n",
    "# # Display the final canvas\n",
    "# plt.figure(figsize=(20, 20))\n",
    "# plt.imshow(final_canvas)\n",
    "# plt.title(\"Final Canvas with All Images in Reference Frame\")\n",
    "# plt.axis('off')\n",
    "\n",
    "# # Save the canvas to the current directory\n",
    "# plt.savefig('final_canvas.png', bbox_inches='tight')\n",
    "# plt.show()"
   ]
  }
 ],
 "metadata": {
  "kernelspec": {
   "display_name": "sandbox",
   "language": "python",
   "name": "python3"
  },
  "language_info": {
   "codemirror_mode": {
    "name": "ipython",
    "version": 3
   },
   "file_extension": ".py",
   "mimetype": "text/x-python",
   "name": "python",
   "nbconvert_exporter": "python",
   "pygments_lexer": "ipython3",
   "version": "3.10.13"
  }
 },
 "nbformat": 4,
 "nbformat_minor": 2
}
