{
 "cells": [
  {
   "cell_type": "code",
   "execution_count": 1,
   "metadata": {},
   "outputs": [],
   "source": [
    "import matplotlib.pyplot as plt\n",
    "from pathlib import Path\n",
    "import scipy.io as spio\n",
    "from tqdm import tqdm\n",
    "from PIL import Image\n",
    "import numpy as np\n",
    "import cv2\n",
    "import os"
   ]
  },
  {
   "cell_type": "code",
   "execution_count": 3,
   "metadata": {},
   "outputs": [],
   "source": [
    "data_path = Path(os.getcwd()) / 'volley'\n",
    "\n",
    "imgs_fpaths = sorted((data_path / 'input').glob('*.jpg'),\n",
    "                     key=lambda x: int(x.stem.split('_')[1])\n",
    "                    )\n",
    "ref_img_fpath = data_path / 'reference' / 'img_ref.jpg'"
   ]
  },
  {
   "cell_type": "code",
   "execution_count": 7,
   "metadata": {},
   "outputs": [],
   "source": [
    "def save_sift(img_fpath, output_path):\n",
    "    sift = cv2.SIFT_create()\n",
    "    keypoints_descriptors = {}\n",
    "\n",
    "    img = cv2.imread(str(img_fpath), cv2.IMREAD_GRAYSCALE)\n",
    "    keypoints, descriptors = sift.detectAndCompute(img, None)\n",
    "    keypoints_descriptors[img_fpath.name] = {\n",
    "        'kp': [kp.pt for kp in keypoints],\n",
    "        'desc': descriptors\n",
    "    }\n",
    "\n",
    "    spio.savemat(output_path, keypoints_descriptors)\n"
   ]
  },
  {
   "cell_type": "code",
   "execution_count": null,
   "metadata": {},
   "outputs": [],
   "source": [
    "for i, img_fpath in enumerate(imgs_fpaths):\n",
    "    save_sift(img_fpath, output_path = data_path / 'input' / f\"kp_{i:04d}.mat\") \n"
   ]
  },
  {
   "cell_type": "code",
   "execution_count": 8,
   "metadata": {},
   "outputs": [],
   "source": [
    "save_sift(ref_img_fpath, data_path / 'reference/kp_ref.mat')"
   ]
  },
  {
   "cell_type": "code",
   "execution_count": null,
   "metadata": {},
   "outputs": [],
   "source": []
  }
 ],
 "metadata": {
  "kernelspec": {
   "display_name": "sandbox",
   "language": "python",
   "name": "python3"
  },
  "language_info": {
   "codemirror_mode": {
    "name": "ipython",
    "version": 3
   },
   "file_extension": ".py",
   "mimetype": "text/x-python",
   "name": "python",
   "nbconvert_exporter": "python",
   "pygments_lexer": "ipython3",
   "version": "3.10.15"
  }
 },
 "nbformat": 4,
 "nbformat_minor": 2
}
