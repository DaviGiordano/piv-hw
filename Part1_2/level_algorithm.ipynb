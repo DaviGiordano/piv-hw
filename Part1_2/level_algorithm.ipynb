{
 "cells": [
  {
   "cell_type": "code",
   "execution_count": 1,
   "metadata": {},
   "outputs": [],
   "source": [
    "import matplotlib.pyplot as plt\n",
    "from pathlib import Path\n",
    "import scipy.io as spio\n",
    "from tqdm import tqdm\n",
    "from PIL import Image\n",
    "import numpy as np\n",
    "import cv2\n",
    "import os\n",
    "from utils import ImageNode\n",
    "\n",
    "\n",
    "%load_ext autoreload\n",
    "%autoreload 2"
   ]
  },
  {
   "cell_type": "markdown",
   "metadata": {},
   "source": [
    "# 1. Load images"
   ]
  },
  {
   "cell_type": "code",
   "execution_count": 2,
   "metadata": {},
   "outputs": [],
   "source": [
    "DISTANCE_THRESHOLD_PERCENTILE = 75\n",
    "RANSAC_THRESHOLD = 5\n",
    "SCALE_FACTOR = 0.5"
   ]
  },
  {
   "cell_type": "code",
   "execution_count": 3,
   "metadata": {},
   "outputs": [],
   "source": [
    "data_path = Path(os.getcwd()) / 'volley'\n",
    "\n",
    "kps_fpaths = sorted((data_path / 'input').glob('kp*.mat'),\n",
    "                     key=lambda x: int(x.stem.split('_')[1])\n",
    "                    )\n",
    "\n",
    "imgs_fpaths = sorted((data_path / 'input').glob('*.jpg'),\n",
    "                     key=lambda x: int(x.stem.split('_')[1])\n",
    "                    )\n",
    "\n",
    "ref_kps_fpath = data_path / 'reference' / 'kp_ref.mat'\n",
    "ref_img_fpath = data_path / 'reference' / 'img_ref.jpg'"
   ]
  },
  {
   "cell_type": "code",
   "execution_count": 4,
   "metadata": {},
   "outputs": [],
   "source": [
    "keypoints = [spio.loadmat(fpath)['kp'] for fpath in kps_fpaths]\n",
    "descriptors = [spio.loadmat(fpath)['desc'] for fpath in kps_fpaths]\n",
    "\n",
    "ref_keypoints = spio.loadmat(ref_kps_fpath)['kp']\n",
    "ref_descriptors = spio.loadmat(ref_kps_fpath)['desc']\n",
    "\n",
    "images = [np.array(Image.open(fpath)) for fpath in imgs_fpaths]\n",
    "ref_img = np.array(Image.open(ref_img_fpath))"
   ]
  },
  {
   "cell_type": "code",
   "execution_count": 5,
   "metadata": {},
   "outputs": [],
   "source": [
    "from utils import resize_keypoint_and_image\n",
    "\n",
    "\n",
    "for i in range(len(keypoints)):\n",
    "    keypoints[i], images[i] = resize_keypoint_and_image(keypoints[i], images[i], SCALE_FACTOR)\n",
    "\n",
    "ref_keypoints, ref_img = resize_keypoint_and_image(ref_keypoints, ref_img, SCALE_FACTOR)\n"
   ]
  },
  {
   "cell_type": "code",
   "execution_count": 6,
   "metadata": {},
   "outputs": [],
   "source": [
    "for i in range(len(keypoints)):\n",
    "    mask = (keypoints[i][:, 1] > 18) & (keypoints[i][:, 1] < 140)\n",
    "    keypoints[i] = keypoints[i][mask]\n",
    "    descriptors[i] = descriptors[i][mask]\n",
    "\n",
    "mask = (ref_keypoints[:, 1] > 18) & (ref_keypoints[:, 1] < 140)\n",
    "filtered_ref_keypoints = ref_keypoints[mask]\n",
    "filtered_ref_descriptors = ref_descriptors[mask]\n"
   ]
  },
  {
   "cell_type": "code",
   "execution_count": 7,
   "metadata": {},
   "outputs": [],
   "source": [
    "image_nodes = [ImageNode(image, kp, desc, idx) for idx, (image, kp, desc) in enumerate(zip(images, keypoints, descriptors))]\n",
    "image_node_ref = ImageNode(ref_img, filtered_ref_keypoints, filtered_ref_descriptors, idx=-1)"
   ]
  },
  {
   "cell_type": "code",
   "execution_count": null,
   "metadata": {},
   "outputs": [],
   "source": [
    "plt.figure(figsize=(10, 10))\n",
    "plt.imshow(image_nodes[0].image, cmap='gray')\n",
    "plt.scatter(image_nodes[0].keypoints[:, 0], image_nodes[0].keypoints[:, 1], c='r', s=10)\n",
    "plt.title(\"Filtered Keypoints on first Image\")\n",
    "plt.axis('off')\n",
    "plt.show()"
   ]
  },
  {
   "cell_type": "code",
   "execution_count": null,
   "metadata": {},
   "outputs": [],
   "source": [
    "plt.figure(figsize=(10, 10))\n",
    "plt.imshow(ref_img, cmap='gray')\n",
    "plt.scatter(filtered_ref_keypoints[:, 0], filtered_ref_keypoints[:, 1], c='r', s=10)\n",
    "plt.title(\"Filtered Keypoints on Reference Image\")\n",
    "plt.axis('off')\n",
    "plt.show()"
   ]
  },
  {
   "cell_type": "markdown",
   "metadata": {},
   "source": [
    "# 2. Compute thresholds"
   ]
  },
  {
   "cell_type": "code",
   "execution_count": 10,
   "metadata": {},
   "outputs": [],
   "source": [
    "def find_matches(src_node, dst_node, max_desc_dist=None):\n",
    "    bf = cv2.BFMatcher(cv2.NORM_L2, crossCheck=True)\n",
    "    matches = bf.match(src_node.descriptors, dst_node.descriptors)\n",
    "    \n",
    "    if max_desc_dist != None:\n",
    "        matches = [m for m in matches if m.distance <= max_desc_dist]\n",
    "    \n",
    "    src_pts = np.float32([src_node.keypoints[m.queryIdx] for m in matches])\n",
    "    dst_pts = np.float32([dst_node.keypoints[m.trainIdx] for m in matches])\n",
    "\n",
    "    return matches, src_pts, dst_pts"
   ]
  },
  {
   "cell_type": "code",
   "execution_count": 11,
   "metadata": {},
   "outputs": [],
   "source": [
    "def max_descriptor_distance_threshold(image_nodes, distance_threshold_percentile=50):\n",
    "    all_thresholds = np.array([])\n",
    "    pair_matcher = cv2.BFMatcher(cv2.NORM_L2, crossCheck=True)\n",
    "\n",
    "    for i in tqdm(range(len(image_nodes) - 1)):\n",
    "        src_desc = image_nodes[i].descriptors\n",
    "        dst_desc = image_nodes[i+1].descriptors\n",
    "        matches = pair_matcher.match(src_desc, dst_desc)\n",
    "        distances = np.array([m.distance for m in matches])\n",
    "        curr_threshold = np.percentile(distances, distance_threshold_percentile)\n",
    "        all_thresholds = np.append(all_thresholds, curr_threshold)\n",
    "\n",
    "    descriptor_distance_threshold = max(all_thresholds)\n",
    "    return descriptor_distance_threshold"
   ]
  },
  {
   "cell_type": "code",
   "execution_count": 12,
   "metadata": {},
   "outputs": [],
   "source": [
    "def compute_min_inliers_threshold(image_nodes, max_desc_dist):\n",
    "    inliers_per_pair = []\n",
    "\n",
    "    for i in range(len(image_nodes) - 1):\n",
    "        matches, src_pts, dst_pts = find_matches(image_nodes[i], image_nodes[i+1], max_desc_dist)\n",
    "        H, mask = cv2.findHomography(src_pts, dst_pts, cv2.RANSAC, RANSAC_THRESHOLD)\n",
    "        inliers = np.sum(mask)\n",
    "        inliers_per_pair.append(inliers)\n",
    "\n",
    "    min_inliers = min(inliers_per_pair)\n",
    "    return min_inliers"
   ]
  },
  {
   "cell_type": "code",
   "execution_count": null,
   "metadata": {},
   "outputs": [],
   "source": [
    "max_desc_dist = max_descriptor_distance_threshold(image_nodes, DISTANCE_THRESHOLD_PERCENTILE)\n",
    "print('The maximum descriptor distance is:', round(max_desc_dist, 2))"
   ]
  },
  {
   "cell_type": "code",
   "execution_count": null,
   "metadata": {},
   "outputs": [],
   "source": [
    "min_inliers_threshold = compute_min_inliers_threshold(image_nodes, max_desc_dist)\n",
    "print('The minimum number of inliers is:', min_inliers_threshold)"
   ]
  },
  {
   "cell_type": "markdown",
   "metadata": {},
   "source": [
    "# 3. Compute homographies"
   ]
  },
  {
   "cell_type": "code",
   "execution_count": 15,
   "metadata": {},
   "outputs": [],
   "source": [
    "def find_valid_homography(src_node, dst_node, min_inliers_threshold, max_desc_dist):\n",
    "    matches, src_pts, dst_pts = find_matches(src_node, dst_node, max_desc_dist)\n",
    "    \n",
    "    H, mask = cv2.findHomography(src_pts, dst_pts, cv2.RANSAC, RANSAC_THRESHOLD)\n",
    "    num_inliers = np.sum(mask)\n",
    "    is_H_valid = 1 if num_inliers >= min_inliers_threshold else 0\n",
    "    return H, is_H_valid, num_inliers"
   ]
  },
  {
   "cell_type": "code",
   "execution_count": null,
   "metadata": {},
   "outputs": [],
   "source": [
    "def find_direct_homographies(image_nodes, image_node_ref, min_inliers_threshold, max_desc_dist):\n",
    "    valid_homographies = {1: []}\n",
    "\n",
    "    for i in tqdm(range(len(image_nodes))):\n",
    "        H, is_H_valid, num_inliers = find_valid_homography(image_nodes[i], image_node_ref, min_inliers_threshold, max_desc_dist)\n",
    "        \n",
    "        if is_H_valid:\n",
    "            image_nodes[i].homography = H\n",
    "            image_nodes[i].footprint.append('ref')\n",
    "            valid_homographies[1].append(i)\n",
    "    return valid_homographies\n",
    "\n",
    "valid_homographies = find_direct_homographies(image_nodes, image_node_ref, min_inliers_threshold, max_desc_dist)"
   ]
  },
  {
   "cell_type": "code",
   "execution_count": null,
   "metadata": {},
   "outputs": [],
   "source": [
    "from itertools import chain\n",
    "\n",
    "def find_remaining_homographies(image_nodes, valid_homographies, min_inliers_threshold, max_desc_dist):\n",
    "    level = 1\n",
    "    while level in valid_homographies:\n",
    "        best_idxs = valid_homographies[level]\n",
    "        for node in tqdm(image_nodes):\n",
    "            if node.idx in list(chain.from_iterable(valid_homographies.values())):\n",
    "                continue\n",
    "\n",
    "            nearest_idx = min(best_idxs, key=lambda x: abs(x - node.idx))\n",
    "            H, is_H_valid, num_inliers = find_valid_homography(node, image_nodes[nearest_idx], min_inliers_threshold, max_desc_dist)\n",
    "\n",
    "            if is_H_valid:\n",
    "                node.homography = np.dot(image_nodes[nearest_idx].homography, H) # Double check if this math is correct\n",
    "                valid_homographies.setdefault(level + 1, []).append(node.idx)\n",
    "                node.footprint.append(nearest_idx)\n",
    "                node.footprint.extend(image_nodes[nearest_idx].footprint)\n",
    "        level += 1\n",
    "\n",
    "find_remaining_homographies(image_nodes, valid_homographies, min_inliers_threshold, max_desc_dist)"
   ]
  },
  {
   "cell_type": "code",
   "execution_count": 18,
   "metadata": {},
   "outputs": [],
   "source": [
    "def show_keypoints_matches(node1, node2, max_desc_dist):\n",
    "    \"\"\"\n",
    "    Show the keypoints matches between two image nodes.\n",
    "\n",
    "    Args:\n",
    "        node1 (ImageNode): The first image node.\n",
    "        node2 (ImageNode): The second image node.\n",
    "    \"\"\"\n",
    "    # Convert numpy keypoints to cv2.KeyPoint objects\n",
    "    matches, src_pts, dst_pts = find_matches(node1, node2, max_desc_dist)\n",
    "    keypoints1 = [cv2.KeyPoint(x[0], x[1], 1) for x in src_pts]\n",
    "    keypoints2 = [cv2.KeyPoint(x[0], x[1], 1) for x in dst_pts]\n",
    "\n",
    "    matches = sorted(matches, key=lambda x: x.distance)\n",
    "\n",
    "    # Draw the matches\n",
    "    img_matches = cv2.drawMatches(node1.image, keypoints1, node2.image, keypoints2, matches[:50], None, flags=cv2.DrawMatchesFlags_NOT_DRAW_SINGLE_POINTS)\n",
    "\n",
    "    # Display the matches\n",
    "    plt.figure(figsize=(20, 10))\n",
    "    plt.imshow(img_matches)\n",
    "    plt.title(f\"Keypoints Matches between Image {node1.idx} and Image {node2.idx}\")\n",
    "    plt.axis('off')\n",
    "    plt.show()"
   ]
  },
  {
   "cell_type": "code",
   "execution_count": null,
   "metadata": {},
   "outputs": [],
   "source": [
    "# counter = 0\n",
    "# for node in image_nodes:\n",
    "#     if counter == 3:\n",
    "#         break\n",
    "#     if node.footprint == ['ref']:\n",
    "#         matches, src_pts, dst_pts = find_matches(node, image_node_ref, max_desc_dist)\n",
    "#         valid_matches = [m for m in matches if m.queryIdx < len(node.keypoints) and m.trainIdx < len(ref_keypoints)]\n",
    "#         show_keypoints_matches(node, image_node_ref, max_desc_dist)\n",
    "#         # show_keypoints_matches(node, image_nodes[node.footprint[0]])\n",
    "#         counter += 1"
   ]
  },
  {
   "cell_type": "code",
   "execution_count": null,
   "metadata": {},
   "outputs": [],
   "source": [
    "from plot import visualize_homography_alignment_single\n",
    "\n",
    "counter = 0\n",
    "# Apply the function to all image nodes\n",
    "for node in image_nodes:\n",
    "    if counter == 3:\n",
    "        break\n",
    "    if node.footprint == ['ref']:\n",
    "        visualize_homography_alignment_single(ref_img, node)\n",
    "        counter += 1\n"
   ]
  },
  {
   "cell_type": "code",
   "execution_count": null,
   "metadata": {},
   "outputs": [],
   "source": [
    "from plot import create_canvas_with_images\n",
    "\n",
    "# Example usage:\n",
    "final_canvas = create_canvas_with_images(ref_img, image_nodes)\n",
    "\n",
    "# Display the final canvas\n",
    "plt.figure(figsize=(20, 20))\n",
    "plt.imshow(final_canvas)\n",
    "plt.title(\"Final Canvas with All Images in Reference Frame\")\n",
    "plt.axis('off')\n",
    "plt.show()"
   ]
  }
 ],
 "metadata": {
  "kernelspec": {
   "display_name": "sandbox",
   "language": "python",
   "name": "python3"
  },
  "language_info": {
   "codemirror_mode": {
    "name": "ipython",
    "version": 3
   },
   "file_extension": ".py",
   "mimetype": "text/x-python",
   "name": "python",
   "nbconvert_exporter": "python",
   "pygments_lexer": "ipython3",
   "version": "3.10.16"
  }
 },
 "nbformat": 4,
 "nbformat_minor": 2
}
