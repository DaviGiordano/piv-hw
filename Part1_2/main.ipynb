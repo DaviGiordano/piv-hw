{
 "cells": [
  {
   "cell_type": "code",
   "execution_count": 1,
   "metadata": {},
   "outputs": [],
   "source": [
    "import matplotlib.pyplot as plt\n",
    "from pathlib import Path\n",
    "import scipy.io as spio\n",
    "from tqdm import tqdm\n",
    "from PIL import Image\n",
    "import numpy as np\n",
    "import cv2\n",
    "import os\n",
    "from utils import ImageNode\n",
    "\n",
    "%load_ext line_profiler\n",
    "%load_ext autoreload\n",
    "%autoreload 2"
   ]
  },
  {
   "cell_type": "code",
   "execution_count": 2,
   "metadata": {},
   "outputs": [],
   "source": [
    "DISTANCE_THRESHOLD_PERCENTILE = 90\n",
    "RANSAC_THRESHOLD = 5\n",
    "SCALE_FACTOR = 0.5"
   ]
  },
  {
   "cell_type": "code",
   "execution_count": null,
   "metadata": {},
   "outputs": [],
   "source": [
    "data_tag = 'volley'\n",
    "data_path = Path(os.getcwd()) / data_tag\n",
    "\n",
    "kps_fpaths = sorted((data_path / 'input').glob('kp*.mat'),\n",
    "                     key=lambda x: int(x.stem.split('_')[1])\n",
    "                    )\n",
    "\n",
    "imgs_fpaths = sorted((data_path / 'input').glob('*.jpg'),\n",
    "                     key=lambda x: int(x.stem.split('_')[1])\n",
    "                    )\n",
    "\n",
    "ref_kps_fpath = data_path / 'reference' / 'kp_ref.mat'\n",
    "ref_img_fpath = data_path / 'reference' / 'img_ref.jpg'"
   ]
  }
 ],
 "metadata": {
  "kernelspec": {
   "display_name": "sandbox",
   "language": "python",
   "name": "python3"
  },
  "language_info": {
   "codemirror_mode": {
    "name": "ipython",
    "version": 3
   },
   "file_extension": ".py",
   "mimetype": "text/x-python",
   "name": "python",
   "nbconvert_exporter": "python",
   "pygments_lexer": "ipython3",
   "version": "3.10.13"
  }
 },
 "nbformat": 4,
 "nbformat_minor": 2
}
